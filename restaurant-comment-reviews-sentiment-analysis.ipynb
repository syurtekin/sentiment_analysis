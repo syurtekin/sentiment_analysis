{
 "cells": [
  {
   "cell_type": "code",
   "execution_count": 1,
   "id": "f653d7fd",
   "metadata": {
    "_cell_guid": "b1076dfc-b9ad-4769-8c92-a6c4dae69d19",
    "_uuid": "8f2839f25d086af736a60e9eeb907d3b93b6e0e5",
    "execution": {
     "iopub.execute_input": "2021-08-17T09:04:19.958814Z",
     "iopub.status.busy": "2021-08-17T09:04:19.957893Z",
     "iopub.status.idle": "2021-08-17T09:04:19.973524Z",
     "shell.execute_reply": "2021-08-17T09:04:19.974052Z"
    },
    "papermill": {
     "duration": 0.077583,
     "end_time": "2021-08-17T09:04:19.974430",
     "exception": false,
     "start_time": "2021-08-17T09:04:19.896847",
     "status": "completed"
    },
    "tags": []
   },
   "outputs": [
    {
     "name": "stdout",
     "output_type": "stream",
     "text": [
      "/kaggle/input/reviews/Restaurant_Reviews.tsv\n"
     ]
    }
   ],
   "source": [
    "# This Python 3 environment comes with many helpful analytics libraries installed\n",
    "# It is defined by the kaggle/python Docker image: https://github.com/kaggle/docker-python\n",
    "# For example, here's several helpful packages to load\n",
    "\n",
    "import numpy as np # linear algebra\n",
    "import pandas as pd # data processing, CSV file I/O (e.g. pd.read_csv)\n",
    "\n",
    "# Input data files are available in the read-only \"../input/\" directory\n",
    "# For example, running this (by clicking run or pressing Shift+Enter) will list all files under the input directory\n",
    "\n",
    "import os\n",
    "for dirname, _, filenames in os.walk('/kaggle/input'):\n",
    "    for filename in filenames:\n",
    "        print(os.path.join(dirname, filename))\n",
    "\n",
    "# You can write up to 20GB to the current directory (/kaggle/working/) that gets preserved as output when you create a version using \"Save & Run All\" \n",
    "# You can also write temporary files to /kaggle/temp/, but they won't be saved outside of the current session"
   ]
  },
  {
   "cell_type": "markdown",
   "id": "dc615e03",
   "metadata": {
    "papermill": {
     "duration": 0.044822,
     "end_time": "2021-08-17T09:04:20.066478",
     "exception": false,
     "start_time": "2021-08-17T09:04:20.021656",
     "status": "completed"
    },
    "tags": []
   },
   "source": [
    "**1. Text Preprocessing**\n",
    "\n",
    "**2. Text Visualization**\n",
    "\n",
    "**3. Sentiment Analysis**\n",
    "\n",
    "**4. Sentiment Modeling**\n"
   ]
  },
  {
   "cell_type": "code",
   "execution_count": 2,
   "id": "d126b540",
   "metadata": {
    "execution": {
     "iopub.execute_input": "2021-08-17T09:04:20.168239Z",
     "iopub.status.busy": "2021-08-17T09:04:20.167365Z",
     "iopub.status.idle": "2021-08-17T09:04:22.285874Z",
     "shell.execute_reply": "2021-08-17T09:04:22.286765Z",
     "shell.execute_reply.started": "2021-08-17T08:09:45.842185Z"
    },
    "papermill": {
     "duration": 2.171861,
     "end_time": "2021-08-17T09:04:22.287076",
     "exception": false,
     "start_time": "2021-08-17T09:04:20.115215",
     "status": "completed"
    },
    "tags": []
   },
   "outputs": [
    {
     "name": "stderr",
     "output_type": "stream",
     "text": [
      "/opt/conda/lib/python3.7/site-packages/nltk/twitter/__init__.py:20: UserWarning: The twython library has not been installed. Some functionality from the twitter package will not be available.\n",
      "  warnings.warn(\"The twython library has not been installed. \"\n"
     ]
    }
   ],
   "source": [
    "from warnings import filterwarnings\n",
    "import matplotlib.pyplot as plt\n",
    "import numpy as np\n",
    "import pandas as pd\n",
    "from PIL import Image\n",
    "from nltk.corpus import stopwords\n",
    "from nltk.sentiment import SentimentIntensityAnalyzer\n",
    "from sklearn.ensemble import RandomForestClassifier\n",
    "from sklearn.linear_model import LogisticRegression\n",
    "from sklearn.model_selection import cross_val_score, GridSearchCV, cross_validate\n",
    "from sklearn.preprocessing import LabelEncoder\n",
    "from textblob import Word, TextBlob\n",
    "from wordcloud import WordCloud"
   ]
  },
  {
   "cell_type": "code",
   "execution_count": 3,
   "id": "08570d20",
   "metadata": {
    "execution": {
     "iopub.execute_input": "2021-08-17T09:04:22.386015Z",
     "iopub.status.busy": "2021-08-17T09:04:22.385229Z",
     "iopub.status.idle": "2021-08-17T09:04:22.388617Z",
     "shell.execute_reply": "2021-08-17T09:04:22.388070Z",
     "shell.execute_reply.started": "2021-08-17T08:10:19.278058Z"
    },
    "papermill": {
     "duration": 0.055211,
     "end_time": "2021-08-17T09:04:22.388781",
     "exception": false,
     "start_time": "2021-08-17T09:04:22.333570",
     "status": "completed"
    },
    "tags": []
   },
   "outputs": [],
   "source": [
    "filterwarnings('ignore')\n",
    "pd.set_option('display.max_columns', None)\n",
    "pd.set_option('display.width', 200)\n",
    "pd.set_option('display.float_format', lambda x: '%.2f' % x)"
   ]
  },
  {
   "cell_type": "code",
   "execution_count": 4,
   "id": "f073981d",
   "metadata": {
    "execution": {
     "iopub.execute_input": "2021-08-17T09:04:22.486454Z",
     "iopub.status.busy": "2021-08-17T09:04:22.485738Z",
     "iopub.status.idle": "2021-08-17T09:04:22.506374Z",
     "shell.execute_reply": "2021-08-17T09:04:22.506877Z",
     "shell.execute_reply.started": "2021-08-17T08:10:21.755461Z"
    },
    "papermill": {
     "duration": 0.072954,
     "end_time": "2021-08-17T09:04:22.507100",
     "exception": false,
     "start_time": "2021-08-17T09:04:22.434146",
     "status": "completed"
    },
    "tags": []
   },
   "outputs": [],
   "source": [
    "df = pd.read_csv(\"../input/reviews/Restaurant_Reviews.tsv\",delimiter=\"\\t\")"
   ]
  },
  {
   "cell_type": "markdown",
   "id": "01b89cc2",
   "metadata": {
    "papermill": {
     "duration": 0.044188,
     "end_time": "2021-08-17T09:04:22.596765",
     "exception": false,
     "start_time": "2021-08-17T09:04:22.552577",
     "status": "completed"
    },
    "tags": []
   },
   "source": [
    "> **1. Text Preprocessing**"
   ]
  },
  {
   "cell_type": "code",
   "execution_count": 5,
   "id": "442c076a",
   "metadata": {
    "execution": {
     "iopub.execute_input": "2021-08-17T09:04:22.689846Z",
     "iopub.status.busy": "2021-08-17T09:04:22.689082Z",
     "iopub.status.idle": "2021-08-17T09:04:22.715424Z",
     "shell.execute_reply": "2021-08-17T09:04:22.715882Z",
     "shell.execute_reply.started": "2021-08-17T08:10:28.178970Z"
    },
    "papermill": {
     "duration": 0.074752,
     "end_time": "2021-08-17T09:04:22.716062",
     "exception": false,
     "start_time": "2021-08-17T09:04:22.641310",
     "status": "completed"
    },
    "tags": []
   },
   "outputs": [
    {
     "data": {
      "text/html": [
       "<div>\n",
       "<style scoped>\n",
       "    .dataframe tbody tr th:only-of-type {\n",
       "        vertical-align: middle;\n",
       "    }\n",
       "\n",
       "    .dataframe tbody tr th {\n",
       "        vertical-align: top;\n",
       "    }\n",
       "\n",
       "    .dataframe thead th {\n",
       "        text-align: right;\n",
       "    }\n",
       "</style>\n",
       "<table border=\"1\" class=\"dataframe\">\n",
       "  <thead>\n",
       "    <tr style=\"text-align: right;\">\n",
       "      <th></th>\n",
       "      <th>Review</th>\n",
       "      <th>Liked</th>\n",
       "    </tr>\n",
       "  </thead>\n",
       "  <tbody>\n",
       "    <tr>\n",
       "      <th>0</th>\n",
       "      <td>Wow... Loved this place.</td>\n",
       "      <td>1</td>\n",
       "    </tr>\n",
       "    <tr>\n",
       "      <th>1</th>\n",
       "      <td>Crust is not good.</td>\n",
       "      <td>0</td>\n",
       "    </tr>\n",
       "    <tr>\n",
       "      <th>2</th>\n",
       "      <td>Not tasty and the texture was just nasty.</td>\n",
       "      <td>0</td>\n",
       "    </tr>\n",
       "    <tr>\n",
       "      <th>3</th>\n",
       "      <td>Stopped by during the late May bank holiday of...</td>\n",
       "      <td>1</td>\n",
       "    </tr>\n",
       "    <tr>\n",
       "      <th>4</th>\n",
       "      <td>The selection on the menu was great and so wer...</td>\n",
       "      <td>1</td>\n",
       "    </tr>\n",
       "  </tbody>\n",
       "</table>\n",
       "</div>"
      ],
      "text/plain": [
       "                                              Review  Liked\n",
       "0                           Wow... Loved this place.      1\n",
       "1                                 Crust is not good.      0\n",
       "2          Not tasty and the texture was just nasty.      0\n",
       "3  Stopped by during the late May bank holiday of...      1\n",
       "4  The selection on the menu was great and so wer...      1"
      ]
     },
     "execution_count": 5,
     "metadata": {},
     "output_type": "execute_result"
    }
   ],
   "source": [
    "df.head()"
   ]
  },
  {
   "cell_type": "code",
   "execution_count": 6,
   "id": "d2a373b6",
   "metadata": {
    "execution": {
     "iopub.execute_input": "2021-08-17T09:04:22.810398Z",
     "iopub.status.busy": "2021-08-17T09:04:22.809764Z",
     "iopub.status.idle": "2021-08-17T09:04:22.831658Z",
     "shell.execute_reply": "2021-08-17T09:04:22.832217Z",
     "shell.execute_reply.started": "2021-08-17T08:10:48.987709Z"
    },
    "papermill": {
     "duration": 0.070763,
     "end_time": "2021-08-17T09:04:22.832425",
     "exception": false,
     "start_time": "2021-08-17T09:04:22.761662",
     "status": "completed"
    },
    "tags": []
   },
   "outputs": [
    {
     "name": "stdout",
     "output_type": "stream",
     "text": [
      "<class 'pandas.core.frame.DataFrame'>\n",
      "RangeIndex: 1000 entries, 0 to 999\n",
      "Data columns (total 2 columns):\n",
      " #   Column  Non-Null Count  Dtype \n",
      "---  ------  --------------  ----- \n",
      " 0   Review  1000 non-null   object\n",
      " 1   Liked   1000 non-null   int64 \n",
      "dtypes: int64(1), object(1)\n",
      "memory usage: 15.8+ KB\n"
     ]
    }
   ],
   "source": [
    "df.info()"
   ]
  },
  {
   "cell_type": "code",
   "execution_count": 7,
   "id": "cc97092b",
   "metadata": {
    "execution": {
     "iopub.execute_input": "2021-08-17T09:04:22.931326Z",
     "iopub.status.busy": "2021-08-17T09:04:22.930259Z",
     "iopub.status.idle": "2021-08-17T09:04:22.936271Z",
     "shell.execute_reply": "2021-08-17T09:04:22.936713Z",
     "shell.execute_reply.started": "2021-08-17T08:14:43.685927Z"
    },
    "papermill": {
     "duration": 0.05814,
     "end_time": "2021-08-17T09:04:22.936923",
     "exception": false,
     "start_time": "2021-08-17T09:04:22.878783",
     "status": "completed"
    },
    "tags": []
   },
   "outputs": [
    {
     "data": {
      "text/plain": [
       "(1000, 2)"
      ]
     },
     "execution_count": 7,
     "metadata": {},
     "output_type": "execute_result"
    }
   ],
   "source": [
    "df.shape"
   ]
  },
  {
   "cell_type": "markdown",
   "id": "b029099b",
   "metadata": {
    "papermill": {
     "duration": 0.047001,
     "end_time": "2021-08-17T09:04:23.030542",
     "exception": false,
     "start_time": "2021-08-17T09:04:22.983541",
     "status": "completed"
    },
    "tags": []
   },
   "source": [
    "***Normalizing Case Folding***"
   ]
  },
  {
   "cell_type": "code",
   "execution_count": 8,
   "id": "152742a7",
   "metadata": {
    "execution": {
     "iopub.execute_input": "2021-08-17T09:04:23.131216Z",
     "iopub.status.busy": "2021-08-17T09:04:23.130154Z",
     "iopub.status.idle": "2021-08-17T09:04:23.137338Z",
     "shell.execute_reply": "2021-08-17T09:04:23.137820Z",
     "shell.execute_reply.started": "2021-08-17T08:11:28.102076Z"
    },
    "papermill": {
     "duration": 0.060187,
     "end_time": "2021-08-17T09:04:23.138030",
     "exception": false,
     "start_time": "2021-08-17T09:04:23.077843",
     "status": "completed"
    },
    "tags": []
   },
   "outputs": [],
   "source": [
    "df['Review'] = df['Review'].str.lower()"
   ]
  },
  {
   "cell_type": "code",
   "execution_count": 9,
   "id": "52bf75aa",
   "metadata": {
    "execution": {
     "iopub.execute_input": "2021-08-17T09:04:23.243967Z",
     "iopub.status.busy": "2021-08-17T09:04:23.243060Z",
     "iopub.status.idle": "2021-08-17T09:04:23.248751Z",
     "shell.execute_reply": "2021-08-17T09:04:23.248047Z",
     "shell.execute_reply.started": "2021-08-17T08:11:34.959757Z"
    },
    "papermill": {
     "duration": 0.062971,
     "end_time": "2021-08-17T09:04:23.248909",
     "exception": false,
     "start_time": "2021-08-17T09:04:23.185938",
     "status": "completed"
    },
    "tags": []
   },
   "outputs": [
    {
     "data": {
      "text/html": [
       "<div>\n",
       "<style scoped>\n",
       "    .dataframe tbody tr th:only-of-type {\n",
       "        vertical-align: middle;\n",
       "    }\n",
       "\n",
       "    .dataframe tbody tr th {\n",
       "        vertical-align: top;\n",
       "    }\n",
       "\n",
       "    .dataframe thead th {\n",
       "        text-align: right;\n",
       "    }\n",
       "</style>\n",
       "<table border=\"1\" class=\"dataframe\">\n",
       "  <thead>\n",
       "    <tr style=\"text-align: right;\">\n",
       "      <th></th>\n",
       "      <th>Review</th>\n",
       "      <th>Liked</th>\n",
       "    </tr>\n",
       "  </thead>\n",
       "  <tbody>\n",
       "    <tr>\n",
       "      <th>0</th>\n",
       "      <td>wow... loved this place.</td>\n",
       "      <td>1</td>\n",
       "    </tr>\n",
       "    <tr>\n",
       "      <th>1</th>\n",
       "      <td>crust is not good.</td>\n",
       "      <td>0</td>\n",
       "    </tr>\n",
       "    <tr>\n",
       "      <th>2</th>\n",
       "      <td>not tasty and the texture was just nasty.</td>\n",
       "      <td>0</td>\n",
       "    </tr>\n",
       "    <tr>\n",
       "      <th>3</th>\n",
       "      <td>stopped by during the late may bank holiday of...</td>\n",
       "      <td>1</td>\n",
       "    </tr>\n",
       "    <tr>\n",
       "      <th>4</th>\n",
       "      <td>the selection on the menu was great and so wer...</td>\n",
       "      <td>1</td>\n",
       "    </tr>\n",
       "  </tbody>\n",
       "</table>\n",
       "</div>"
      ],
      "text/plain": [
       "                                              Review  Liked\n",
       "0                           wow... loved this place.      1\n",
       "1                                 crust is not good.      0\n",
       "2          not tasty and the texture was just nasty.      0\n",
       "3  stopped by during the late may bank holiday of...      1\n",
       "4  the selection on the menu was great and so wer...      1"
      ]
     },
     "execution_count": 9,
     "metadata": {},
     "output_type": "execute_result"
    }
   ],
   "source": [
    "df.head()"
   ]
  },
  {
   "cell_type": "markdown",
   "id": "36fc45d8",
   "metadata": {
    "papermill": {
     "duration": 0.04595,
     "end_time": "2021-08-17T09:04:23.341656",
     "exception": false,
     "start_time": "2021-08-17T09:04:23.295706",
     "status": "completed"
    },
    "tags": []
   },
   "source": [
    "***Punctuations***"
   ]
  },
  {
   "cell_type": "code",
   "execution_count": 10,
   "id": "bcd5e284",
   "metadata": {
    "execution": {
     "iopub.execute_input": "2021-08-17T09:04:23.445696Z",
     "iopub.status.busy": "2021-08-17T09:04:23.444988Z",
     "iopub.status.idle": "2021-08-17T09:04:23.446984Z",
     "shell.execute_reply": "2021-08-17T09:04:23.447463Z",
     "shell.execute_reply.started": "2021-08-17T08:13:04.109723Z"
    },
    "papermill": {
     "duration": 0.059928,
     "end_time": "2021-08-17T09:04:23.447671",
     "exception": false,
     "start_time": "2021-08-17T09:04:23.387743",
     "status": "completed"
    },
    "tags": []
   },
   "outputs": [],
   "source": [
    "df['Review'] = df['Review'].str.replace('[^\\w\\s]', '')"
   ]
  },
  {
   "cell_type": "code",
   "execution_count": 11,
   "id": "04b38616",
   "metadata": {
    "execution": {
     "iopub.execute_input": "2021-08-17T09:04:23.548791Z",
     "iopub.status.busy": "2021-08-17T09:04:23.548129Z",
     "iopub.status.idle": "2021-08-17T09:04:23.556916Z",
     "shell.execute_reply": "2021-08-17T09:04:23.556185Z",
     "shell.execute_reply.started": "2021-08-17T08:13:26.006704Z"
    },
    "papermill": {
     "duration": 0.06127,
     "end_time": "2021-08-17T09:04:23.557084",
     "exception": false,
     "start_time": "2021-08-17T09:04:23.495814",
     "status": "completed"
    },
    "tags": []
   },
   "outputs": [],
   "source": [
    "df['Review'] = df['Review'].str.replace('\\d', '')"
   ]
  },
  {
   "cell_type": "markdown",
   "id": "3087c9ab",
   "metadata": {
    "papermill": {
     "duration": 0.047015,
     "end_time": "2021-08-17T09:04:23.651437",
     "exception": false,
     "start_time": "2021-08-17T09:04:23.604422",
     "status": "completed"
    },
    "tags": []
   },
   "source": [
    "***Stopwords*** \n",
    "\n",
    "It allows us to get rid of commonly used words."
   ]
  },
  {
   "cell_type": "code",
   "execution_count": 12,
   "id": "e8e0eff3",
   "metadata": {
    "execution": {
     "iopub.execute_input": "2021-08-17T09:04:23.750887Z",
     "iopub.status.busy": "2021-08-17T09:04:23.750184Z",
     "iopub.status.idle": "2021-08-17T09:04:23.788277Z",
     "shell.execute_reply": "2021-08-17T09:04:23.787647Z",
     "shell.execute_reply.started": "2021-08-17T08:14:04.859068Z"
    },
    "papermill": {
     "duration": 0.088726,
     "end_time": "2021-08-17T09:04:23.788437",
     "exception": false,
     "start_time": "2021-08-17T09:04:23.699711",
     "status": "completed"
    },
    "tags": []
   },
   "outputs": [],
   "source": [
    "sw = stopwords.words('english')\n",
    "df['Review'] = df['Review'].apply(lambda x: \" \".join(x for x in str(x).split() if x not in sw))"
   ]
  },
  {
   "cell_type": "markdown",
   "id": "2ca30848",
   "metadata": {
    "papermill": {
     "duration": 0.049868,
     "end_time": "2021-08-17T09:04:23.886143",
     "exception": false,
     "start_time": "2021-08-17T09:04:23.836275",
     "status": "completed"
    },
    "tags": []
   },
   "source": [
    "***Rarewords***\n",
    "\n",
    "We drop words according to their frequencies."
   ]
  },
  {
   "cell_type": "code",
   "execution_count": 13,
   "id": "136ab72e",
   "metadata": {
    "execution": {
     "iopub.execute_input": "2021-08-17T09:04:23.990302Z",
     "iopub.status.busy": "2021-08-17T09:04:23.989645Z",
     "iopub.status.idle": "2021-08-17T09:04:24.005056Z",
     "shell.execute_reply": "2021-08-17T09:04:24.005600Z",
     "shell.execute_reply.started": "2021-08-17T08:16:02.807454Z"
    },
    "papermill": {
     "duration": 0.073342,
     "end_time": "2021-08-17T09:04:24.005787",
     "exception": false,
     "start_time": "2021-08-17T09:04:23.932445",
     "status": "completed"
    },
    "tags": []
   },
   "outputs": [],
   "source": [
    "drops = pd.Series(' '.join(df['Review']).split()).value_counts()[-250:]\n",
    "df['Review'] = df['Review'].apply(lambda x: \" \".join(x for x in x.split() if x not in drops))"
   ]
  },
  {
   "cell_type": "markdown",
   "id": "c5119f6a",
   "metadata": {
    "papermill": {
     "duration": 0.047315,
     "end_time": "2021-08-17T09:04:24.100689",
     "exception": false,
     "start_time": "2021-08-17T09:04:24.053374",
     "status": "completed"
    },
    "tags": []
   },
   "source": [
    "***Tokenization***\n",
    "\n",
    "break sentences into parts"
   ]
  },
  {
   "cell_type": "code",
   "execution_count": 14,
   "id": "1190ed68",
   "metadata": {
    "execution": {
     "iopub.execute_input": "2021-08-17T09:04:24.199620Z",
     "iopub.status.busy": "2021-08-17T09:04:24.198947Z",
     "iopub.status.idle": "2021-08-17T09:04:24.552445Z",
     "shell.execute_reply": "2021-08-17T09:04:24.551877Z",
     "shell.execute_reply.started": "2021-08-17T08:16:35.682409Z"
    },
    "papermill": {
     "duration": 0.404056,
     "end_time": "2021-08-17T09:04:24.552622",
     "exception": false,
     "start_time": "2021-08-17T09:04:24.148566",
     "status": "completed"
    },
    "tags": []
   },
   "outputs": [
    {
     "data": {
      "text/plain": [
       "0                                  [wow, loved, place]\n",
       "1                                        [crust, good]\n",
       "2                              [tasty, texture, nasty]\n",
       "3    [stopped, late, may, bank, holiday, rick, reco...\n",
       "4                     [selection, menu, great, prices]\n",
       "Name: Review, dtype: object"
      ]
     },
     "execution_count": 14,
     "metadata": {},
     "output_type": "execute_result"
    }
   ],
   "source": [
    "df[\"Review\"].apply(lambda x: TextBlob(x).words).head()"
   ]
  },
  {
   "cell_type": "markdown",
   "id": "42c22f48",
   "metadata": {
    "papermill": {
     "duration": 0.047653,
     "end_time": "2021-08-17T09:04:24.648640",
     "exception": false,
     "start_time": "2021-08-17T09:04:24.600987",
     "status": "completed"
    },
    "tags": []
   },
   "source": [
    "***Lemmatization / Stemming***\n",
    "\n",
    "is the process of separating words by root"
   ]
  },
  {
   "cell_type": "code",
   "execution_count": 15,
   "id": "4cd929d1",
   "metadata": {
    "execution": {
     "iopub.execute_input": "2021-08-17T09:04:24.753143Z",
     "iopub.status.busy": "2021-08-17T09:04:24.752390Z",
     "iopub.status.idle": "2021-08-17T09:04:27.112414Z",
     "shell.execute_reply": "2021-08-17T09:04:27.112907Z",
     "shell.execute_reply.started": "2021-08-17T08:17:40.385864Z"
    },
    "papermill": {
     "duration": 2.415582,
     "end_time": "2021-08-17T09:04:27.113158",
     "exception": false,
     "start_time": "2021-08-17T09:04:24.697576",
     "status": "completed"
    },
    "tags": []
   },
   "outputs": [],
   "source": [
    "df['Review'] = df['Review'].apply(lambda x: \" \".join([Word(word).lemmatize() for word in x.split()]))"
   ]
  },
  {
   "cell_type": "code",
   "execution_count": 16,
   "id": "fd2e6448",
   "metadata": {
    "execution": {
     "iopub.execute_input": "2021-08-17T09:04:27.216499Z",
     "iopub.status.busy": "2021-08-17T09:04:27.215513Z",
     "iopub.status.idle": "2021-08-17T09:04:27.219723Z",
     "shell.execute_reply": "2021-08-17T09:04:27.220198Z",
     "shell.execute_reply.started": "2021-08-17T08:17:56.922545Z"
    },
    "papermill": {
     "duration": 0.058962,
     "end_time": "2021-08-17T09:04:27.220411",
     "exception": false,
     "start_time": "2021-08-17T09:04:27.161449",
     "status": "completed"
    },
    "tags": []
   },
   "outputs": [
    {
     "data": {
      "text/plain": [
       "0                                      wow loved place\n",
       "1                                           crust good\n",
       "2                                  tasty texture nasty\n",
       "3    stopped late may bank holiday rick recommendat...\n",
       "4                           selection menu great price\n",
       "Name: Review, dtype: object"
      ]
     },
     "execution_count": 16,
     "metadata": {},
     "output_type": "execute_result"
    }
   ],
   "source": [
    "df[\"Review\"].head()"
   ]
  },
  {
   "cell_type": "markdown",
   "id": "dd51d337",
   "metadata": {
    "papermill": {
     "duration": 0.0484,
     "end_time": "2021-08-17T09:04:27.319423",
     "exception": false,
     "start_time": "2021-08-17T09:04:27.271023",
     "status": "completed"
    },
    "tags": []
   },
   "source": [
    "> **2. Text Visualization**"
   ]
  },
  {
   "cell_type": "markdown",
   "id": "5d728110",
   "metadata": {
    "papermill": {
     "duration": 0.048493,
     "end_time": "2021-08-17T09:04:27.416223",
     "exception": false,
     "start_time": "2021-08-17T09:04:27.367730",
     "status": "completed"
    },
    "tags": []
   },
   "source": [
    "Calculate the term frequencies"
   ]
  },
  {
   "cell_type": "code",
   "execution_count": 17,
   "id": "399bc7d7",
   "metadata": {
    "execution": {
     "iopub.execute_input": "2021-08-17T09:04:27.554024Z",
     "iopub.status.busy": "2021-08-17T09:04:27.534336Z",
     "iopub.status.idle": "2021-08-17T09:04:28.350654Z",
     "shell.execute_reply": "2021-08-17T09:04:28.349907Z",
     "shell.execute_reply.started": "2021-08-17T08:20:20.959019Z"
    },
    "papermill": {
     "duration": 0.886825,
     "end_time": "2021-08-17T09:04:28.350819",
     "exception": false,
     "start_time": "2021-08-17T09:04:27.463994",
     "status": "completed"
    },
    "tags": []
   },
   "outputs": [],
   "source": [
    "tf = df[\"Review\"].apply(lambda x: pd.value_counts(x.split(\" \"))).sum(axis=0).reset_index()"
   ]
  },
  {
   "cell_type": "code",
   "execution_count": 18,
   "id": "c7317e54",
   "metadata": {
    "execution": {
     "iopub.execute_input": "2021-08-17T09:04:28.458014Z",
     "iopub.status.busy": "2021-08-17T09:04:28.456795Z",
     "iopub.status.idle": "2021-08-17T09:04:28.461457Z",
     "shell.execute_reply": "2021-08-17T09:04:28.460779Z",
     "shell.execute_reply.started": "2021-08-17T08:20:29.980574Z"
    },
    "papermill": {
     "duration": 0.062359,
     "end_time": "2021-08-17T09:04:28.461621",
     "exception": false,
     "start_time": "2021-08-17T09:04:28.399262",
     "status": "completed"
    },
    "tags": []
   },
   "outputs": [
    {
     "data": {
      "text/html": [
       "<div>\n",
       "<style scoped>\n",
       "    .dataframe tbody tr th:only-of-type {\n",
       "        vertical-align: middle;\n",
       "    }\n",
       "\n",
       "    .dataframe tbody tr th {\n",
       "        vertical-align: top;\n",
       "    }\n",
       "\n",
       "    .dataframe thead th {\n",
       "        text-align: right;\n",
       "    }\n",
       "</style>\n",
       "<table border=\"1\" class=\"dataframe\">\n",
       "  <thead>\n",
       "    <tr style=\"text-align: right;\">\n",
       "      <th></th>\n",
       "      <th>words</th>\n",
       "      <th>tf</th>\n",
       "    </tr>\n",
       "  </thead>\n",
       "  <tbody>\n",
       "    <tr>\n",
       "      <th>0</th>\n",
       "      <td>loved</td>\n",
       "      <td>10.00</td>\n",
       "    </tr>\n",
       "    <tr>\n",
       "      <th>1</th>\n",
       "      <td>wow</td>\n",
       "      <td>3.00</td>\n",
       "    </tr>\n",
       "    <tr>\n",
       "      <th>2</th>\n",
       "      <td>place</td>\n",
       "      <td>111.00</td>\n",
       "    </tr>\n",
       "    <tr>\n",
       "      <th>3</th>\n",
       "      <td>crust</td>\n",
       "      <td>2.00</td>\n",
       "    </tr>\n",
       "    <tr>\n",
       "      <th>4</th>\n",
       "      <td>good</td>\n",
       "      <td>95.00</td>\n",
       "    </tr>\n",
       "  </tbody>\n",
       "</table>\n",
       "</div>"
      ],
      "text/plain": [
       "   words     tf\n",
       "0  loved  10.00\n",
       "1    wow   3.00\n",
       "2  place 111.00\n",
       "3  crust   2.00\n",
       "4   good  95.00"
      ]
     },
     "execution_count": 18,
     "metadata": {},
     "output_type": "execute_result"
    }
   ],
   "source": [
    "tf.columns = [\"words\", \"tf\"]\n",
    "tf.head()"
   ]
  },
  {
   "cell_type": "code",
   "execution_count": 19,
   "id": "aa9c4a81",
   "metadata": {
    "execution": {
     "iopub.execute_input": "2021-08-17T09:04:28.568751Z",
     "iopub.status.busy": "2021-08-17T09:04:28.567768Z",
     "iopub.status.idle": "2021-08-17T09:04:28.572258Z",
     "shell.execute_reply": "2021-08-17T09:04:28.571587Z",
     "shell.execute_reply.started": "2021-08-17T08:20:45.220733Z"
    },
    "papermill": {
     "duration": 0.058152,
     "end_time": "2021-08-17T09:04:28.572425",
     "exception": false,
     "start_time": "2021-08-17T09:04:28.514273",
     "status": "completed"
    },
    "tags": []
   },
   "outputs": [
    {
     "data": {
      "text/plain": [
       "(1591, 2)"
      ]
     },
     "execution_count": 19,
     "metadata": {},
     "output_type": "execute_result"
    }
   ],
   "source": [
    "tf.shape"
   ]
  },
  {
   "cell_type": "code",
   "execution_count": 20,
   "id": "0fd227b2",
   "metadata": {
    "execution": {
     "iopub.execute_input": "2021-08-17T09:04:28.677122Z",
     "iopub.status.busy": "2021-08-17T09:04:28.675994Z",
     "iopub.status.idle": "2021-08-17T09:04:28.683937Z",
     "shell.execute_reply": "2021-08-17T09:04:28.683190Z",
     "shell.execute_reply.started": "2021-08-17T08:21:02.650946Z"
    },
    "papermill": {
     "duration": 0.063023,
     "end_time": "2021-08-17T09:04:28.684161",
     "exception": false,
     "start_time": "2021-08-17T09:04:28.621138",
     "status": "completed"
    },
    "tags": []
   },
   "outputs": [
    {
     "data": {
      "text/plain": [
       "1591"
      ]
     },
     "execution_count": 20,
     "metadata": {},
     "output_type": "execute_result"
    }
   ],
   "source": [
    "tf[\"words\"].nunique()"
   ]
  },
  {
   "cell_type": "code",
   "execution_count": 21,
   "id": "c31ded32",
   "metadata": {
    "execution": {
     "iopub.execute_input": "2021-08-17T09:04:28.791307Z",
     "iopub.status.busy": "2021-08-17T09:04:28.790541Z",
     "iopub.status.idle": "2021-08-17T09:04:28.801968Z",
     "shell.execute_reply": "2021-08-17T09:04:28.802525Z",
     "shell.execute_reply.started": "2021-08-17T08:21:09.633578Z"
    },
    "papermill": {
     "duration": 0.069209,
     "end_time": "2021-08-17T09:04:28.802741",
     "exception": false,
     "start_time": "2021-08-17T09:04:28.733532",
     "status": "completed"
    },
    "tags": []
   },
   "outputs": [
    {
     "data": {
      "text/plain": [
       "count   1591.00\n",
       "mean       3.38\n",
       "std        7.15\n",
       "min        1.00\n",
       "5%         1.00\n",
       "10%        1.00\n",
       "25%        1.00\n",
       "50%        1.00\n",
       "75%        3.00\n",
       "80%        4.00\n",
       "90%        7.00\n",
       "95%       12.00\n",
       "99%       27.00\n",
       "max      124.00\n",
       "Name: tf, dtype: float64"
      ]
     },
     "execution_count": 21,
     "metadata": {},
     "output_type": "execute_result"
    }
   ],
   "source": [
    "tf[\"tf\"].describe([0.05, 0.10, 0.25, 0.50, 0.75, 0.80, 0.90, 0.95, 0.99]).T"
   ]
  },
  {
   "cell_type": "code",
   "execution_count": 22,
   "id": "f0aa289e",
   "metadata": {
    "execution": {
     "iopub.execute_input": "2021-08-17T09:04:28.919063Z",
     "iopub.status.busy": "2021-08-17T09:04:28.910062Z",
     "iopub.status.idle": "2021-08-17T09:04:28.924320Z",
     "shell.execute_reply": "2021-08-17T09:04:28.923779Z",
     "shell.execute_reply.started": "2021-08-17T08:21:24.662655Z"
    },
    "papermill": {
     "duration": 0.071885,
     "end_time": "2021-08-17T09:04:28.924480",
     "exception": false,
     "start_time": "2021-08-17T09:04:28.852595",
     "status": "completed"
    },
    "tags": []
   },
   "outputs": [
    {
     "data": {
      "text/html": [
       "<div>\n",
       "<style scoped>\n",
       "    .dataframe tbody tr th:only-of-type {\n",
       "        vertical-align: middle;\n",
       "    }\n",
       "\n",
       "    .dataframe tbody tr th {\n",
       "        vertical-align: top;\n",
       "    }\n",
       "\n",
       "    .dataframe thead th {\n",
       "        text-align: right;\n",
       "    }\n",
       "</style>\n",
       "<table border=\"1\" class=\"dataframe\">\n",
       "  <thead>\n",
       "    <tr style=\"text-align: right;\">\n",
       "      <th></th>\n",
       "      <th>words</th>\n",
       "      <th>tf</th>\n",
       "    </tr>\n",
       "  </thead>\n",
       "  <tbody>\n",
       "    <tr>\n",
       "      <th>76</th>\n",
       "      <td>food</td>\n",
       "      <td>124.00</td>\n",
       "    </tr>\n",
       "    <tr>\n",
       "      <th>2</th>\n",
       "      <td>place</td>\n",
       "      <td>111.00</td>\n",
       "    </tr>\n",
       "    <tr>\n",
       "      <th>4</th>\n",
       "      <td>good</td>\n",
       "      <td>95.00</td>\n",
       "    </tr>\n",
       "    <tr>\n",
       "      <th>40</th>\n",
       "      <td>service</td>\n",
       "      <td>83.00</td>\n",
       "    </tr>\n",
       "    <tr>\n",
       "      <th>16</th>\n",
       "      <td>great</td>\n",
       "      <td>70.00</td>\n",
       "    </tr>\n",
       "    <tr>\n",
       "      <th>...</th>\n",
       "      <td>...</td>\n",
       "      <td>...</td>\n",
       "    </tr>\n",
       "    <tr>\n",
       "      <th>896</th>\n",
       "      <td>handling</td>\n",
       "      <td>1.00</td>\n",
       "    </tr>\n",
       "    <tr>\n",
       "      <th>897</th>\n",
       "      <td>rowdy</td>\n",
       "      <td>1.00</td>\n",
       "    </tr>\n",
       "    <tr>\n",
       "      <th>903</th>\n",
       "      <td>rest</td>\n",
       "      <td>1.00</td>\n",
       "    </tr>\n",
       "    <tr>\n",
       "      <th>904</th>\n",
       "      <td>ache</td>\n",
       "      <td>1.00</td>\n",
       "    </tr>\n",
       "    <tr>\n",
       "      <th>1590</th>\n",
       "      <td>wound</td>\n",
       "      <td>1.00</td>\n",
       "    </tr>\n",
       "  </tbody>\n",
       "</table>\n",
       "<p>1591 rows × 2 columns</p>\n",
       "</div>"
      ],
      "text/plain": [
       "         words     tf\n",
       "76        food 124.00\n",
       "2        place 111.00\n",
       "4         good  95.00\n",
       "40     service  83.00\n",
       "16       great  70.00\n",
       "...        ...    ...\n",
       "896   handling   1.00\n",
       "897      rowdy   1.00\n",
       "903       rest   1.00\n",
       "904       ache   1.00\n",
       "1590     wound   1.00\n",
       "\n",
       "[1591 rows x 2 columns]"
      ]
     },
     "execution_count": 22,
     "metadata": {},
     "output_type": "execute_result"
    }
   ],
   "source": [
    "tf.sort_values(\"tf\", ascending = False)"
   ]
  },
  {
   "cell_type": "markdown",
   "id": "a848c418",
   "metadata": {
    "papermill": {
     "duration": 0.049021,
     "end_time": "2021-08-17T09:04:29.023989",
     "exception": false,
     "start_time": "2021-08-17T09:04:28.974968",
     "status": "completed"
    },
    "tags": []
   },
   "source": [
    "Barplot"
   ]
  },
  {
   "cell_type": "code",
   "execution_count": 23,
   "id": "efc9f56a",
   "metadata": {
    "execution": {
     "iopub.execute_input": "2021-08-17T09:04:29.131901Z",
     "iopub.status.busy": "2021-08-17T09:04:29.131066Z",
     "iopub.status.idle": "2021-08-17T09:04:29.475166Z",
     "shell.execute_reply": "2021-08-17T09:04:29.474449Z",
     "shell.execute_reply.started": "2021-08-17T08:22:34.695634Z"
    },
    "papermill": {
     "duration": 0.399751,
     "end_time": "2021-08-17T09:04:29.475339",
     "exception": false,
     "start_time": "2021-08-17T09:04:29.075588",
     "status": "completed"
    },
    "tags": []
   },
   "outputs": [
    {
     "data": {
      "image/png": "[encoded data removed]",
      "text/plain": [
       "<Figure size 432x288 with 1 Axes>"
      ]
     },
     "metadata": {
      "needs_background": "light"
     },
     "output_type": "display_data"
    }
   ],
   "source": [
    "tf[tf[\"tf\"] > 25].plot.bar(x=\"words\", y=\"tf\")\n",
    "plt.show()"
   ]
  },
  {
   "cell_type": "markdown",
   "id": "41998db5",
   "metadata": {
    "papermill": {
     "duration": 0.050165,
     "end_time": "2021-08-17T09:04:29.579422",
     "exception": false,
     "start_time": "2021-08-17T09:04:29.529257",
     "status": "completed"
    },
    "tags": []
   },
   "source": [
    "Wordcloud"
   ]
  },
  {
   "cell_type": "code",
   "execution_count": 24,
   "id": "b4ba1900",
   "metadata": {
    "execution": {
     "iopub.execute_input": "2021-08-17T09:04:29.711723Z",
     "iopub.status.busy": "2021-08-17T09:04:29.706404Z",
     "iopub.status.idle": "2021-08-17T09:04:30.610761Z",
     "shell.execute_reply": "2021-08-17T09:04:30.610142Z",
     "shell.execute_reply.started": "2021-08-17T08:23:37.807051Z"
    },
    "papermill": {
     "duration": 0.980705,
     "end_time": "2021-08-17T09:04:30.610928",
     "exception": false,
     "start_time": "2021-08-17T09:04:29.630223",
     "status": "completed"
    },
    "tags": []
   },
   "outputs": [
    {
     "data": {
      "image/png": "[encoded data removed]",
      "text/plain": [
       "<Figure size 432x288 with 1 Axes>"
      ]
     },
     "metadata": {
      "needs_background": "light"
     },
     "output_type": "display_data"
    },
    {
     "data": {
      "image/png": "[encoded data removed]",
      "text/plain": [
       "<Figure size 432x288 with 1 Axes>"
      ]
     },
     "metadata": {
      "needs_background": "light"
     },
     "output_type": "display_data"
    },
    {
     "data": {
      "text/plain": [
       "<wordcloud.wordcloud.WordCloud at 0x7f35238aebd0>"
      ]
     },
     "execution_count": 24,
     "metadata": {},
     "output_type": "execute_result"
    }
   ],
   "source": [
    "text = \" \".join(i for i in df.Review)\n",
    "wordcloud = WordCloud().generate(text)\n",
    "plt.imshow(wordcloud, interpolation=\"bilinear\")\n",
    "plt.axis(\"off\")\n",
    "plt.show()\n",
    "\n",
    "\n",
    "wordcloud = WordCloud(max_font_size=50,\n",
    "                      max_words=100,\n",
    "                      background_color=\"white\").generate(text)\n",
    "plt.figure()\n",
    "plt.imshow(wordcloud, interpolation=\"bilinear\")\n",
    "plt.axis(\"off\")\n",
    "plt.show()\n",
    "\n",
    "wordcloud.to_file(\"wordcloud.png\")"
   ]
  },
  {
   "cell_type": "markdown",
   "id": "ea5dbb41",
   "metadata": {
    "papermill": {
     "duration": 0.058746,
     "end_time": "2021-08-17T09:04:30.728239",
     "exception": false,
     "start_time": "2021-08-17T09:04:30.669493",
     "status": "completed"
    },
    "tags": []
   },
   "source": [
    "> **3. Sentiment Analysis**"
   ]
  },
  {
   "cell_type": "code",
   "execution_count": 25,
   "id": "a397859b",
   "metadata": {
    "execution": {
     "iopub.execute_input": "2021-08-17T09:04:30.852063Z",
     "iopub.status.busy": "2021-08-17T09:04:30.851186Z",
     "iopub.status.idle": "2021-08-17T09:04:30.875961Z",
     "shell.execute_reply": "2021-08-17T09:04:30.875251Z",
     "shell.execute_reply.started": "2021-08-17T08:26:06.698380Z"
    },
    "papermill": {
     "duration": 0.087908,
     "end_time": "2021-08-17T09:04:30.876147",
     "exception": false,
     "start_time": "2021-08-17T09:04:30.788239",
     "status": "completed"
    },
    "tags": []
   },
   "outputs": [
    {
     "data": {
      "text/plain": [
       "{'neg': 0.0, 'neu': 0.423, 'pos': 0.577, 'compound': 0.6249}"
      ]
     },
     "execution_count": 25,
     "metadata": {},
     "output_type": "execute_result"
    }
   ],
   "source": [
    "sia = SentimentIntensityAnalyzer()\n",
    "sia.polarity_scores(\"The food was awesome\")"
   ]
  },
  {
   "cell_type": "code",
   "execution_count": 26,
   "id": "fd768e0f",
   "metadata": {
    "execution": {
     "iopub.execute_input": "2021-08-17T09:04:31.004866Z",
     "iopub.status.busy": "2021-08-17T09:04:31.004074Z",
     "iopub.status.idle": "2021-08-17T09:04:31.007685Z",
     "shell.execute_reply": "2021-08-17T09:04:31.007045Z",
     "shell.execute_reply.started": "2021-08-17T08:26:46.293573Z"
    },
    "papermill": {
     "duration": 0.071491,
     "end_time": "2021-08-17T09:04:31.007844",
     "exception": false,
     "start_time": "2021-08-17T09:04:30.936353",
     "status": "completed"
    },
    "tags": []
   },
   "outputs": [
    {
     "data": {
      "text/plain": [
       "0                                        WOW LOVED PLACE\n",
       "1                                             CRUST GOOD\n",
       "2                                    TASTY TEXTURE NASTY\n",
       "3      STOPPED LATE MAY BANK HOLIDAY RICK RECOMMENDAT...\n",
       "4                             SELECTION MENU GREAT PRICE\n",
       "                             ...                        \n",
       "995                    THINK FOOD FLAVOR TEXTURE LACKING\n",
       "996                              APPETITE INSTANTLY GONE\n",
       "997                      OVERALL IMPRESSED WOULD GO BACK\n",
       "998    WHOLE EXPERIENCE UNDERWHELMING THINK WELL GO S...\n",
       "999    WASTED ENOUGH LIFE POURED SALT WOUND DRAWING T...\n",
       "Name: Review, Length: 1000, dtype: object"
      ]
     },
     "execution_count": 26,
     "metadata": {},
     "output_type": "execute_result"
    }
   ],
   "source": [
    "df[\"Review\"].apply(lambda x: x.upper())"
   ]
  },
  {
   "cell_type": "code",
   "execution_count": 27,
   "id": "6ea2ee8c",
   "metadata": {
    "execution": {
     "iopub.execute_input": "2021-08-17T09:04:31.138875Z",
     "iopub.status.busy": "2021-08-17T09:04:31.137774Z",
     "iopub.status.idle": "2021-08-17T09:04:31.143009Z",
     "shell.execute_reply": "2021-08-17T09:04:31.142315Z",
     "shell.execute_reply.started": "2021-08-17T08:27:02.059910Z"
    },
    "papermill": {
     "duration": 0.076307,
     "end_time": "2021-08-17T09:04:31.143184",
     "exception": false,
     "start_time": "2021-08-17T09:04:31.066877",
     "status": "completed"
    },
    "tags": []
   },
   "outputs": [
    {
     "data": {
      "text/plain": [
       "0    {'neg': 0.0, 'neu': 0.115, 'pos': 0.885, 'comp...\n",
       "1    {'neg': 0.0, 'neu': 0.256, 'pos': 0.744, 'comp...\n",
       "2    {'neg': 0.643, 'neu': 0.357, 'pos': 0.0, 'comp...\n",
       "3    {'neg': 0.141, 'neu': 0.37, 'pos': 0.489, 'com...\n",
       "4    {'neg': 0.0, 'neu': 0.423, 'pos': 0.577, 'comp...\n",
       "5    {'neg': 0.645, 'neu': 0.215, 'pos': 0.14, 'com...\n",
       "6    {'neg': 0.395, 'neu': 0.605, 'pos': 0.0, 'comp...\n",
       "7    {'neg': 0.0, 'neu': 0.598, 'pos': 0.402, 'comp...\n",
       "8    {'neg': 0.0, 'neu': 0.196, 'pos': 0.804, 'comp...\n",
       "9    {'neg': 0.0, 'neu': 0.196, 'pos': 0.804, 'comp...\n",
       "Name: Review, dtype: object"
      ]
     },
     "execution_count": 27,
     "metadata": {},
     "output_type": "execute_result"
    }
   ],
   "source": [
    "df[\"Review\"][0:10].apply(lambda x: sia.polarity_scores(x))"
   ]
  },
  {
   "cell_type": "code",
   "execution_count": 28,
   "id": "7f27fa6f",
   "metadata": {
    "execution": {
     "iopub.execute_input": "2021-08-17T09:04:31.280589Z",
     "iopub.status.busy": "2021-08-17T09:04:31.269936Z",
     "iopub.status.idle": "2021-08-17T09:04:31.380722Z",
     "shell.execute_reply": "2021-08-17T09:04:31.380147Z",
     "shell.execute_reply.started": "2021-08-17T08:27:35.163247Z"
    },
    "papermill": {
     "duration": 0.179411,
     "end_time": "2021-08-17T09:04:31.380866",
     "exception": false,
     "start_time": "2021-08-17T09:04:31.201455",
     "status": "completed"
    },
    "tags": []
   },
   "outputs": [],
   "source": [
    "df[\"polarity_score\"] = df[\"Review\"].apply(lambda x: sia.polarity_scores(x)[\"compound\"])"
   ]
  },
  {
   "cell_type": "code",
   "execution_count": 29,
   "id": "11df303b",
   "metadata": {
    "execution": {
     "iopub.execute_input": "2021-08-17T09:04:31.508839Z",
     "iopub.status.busy": "2021-08-17T09:04:31.508176Z",
     "iopub.status.idle": "2021-08-17T09:04:31.512268Z",
     "shell.execute_reply": "2021-08-17T09:04:31.512813Z",
     "shell.execute_reply.started": "2021-08-17T08:27:39.880972Z"
    },
    "papermill": {
     "duration": 0.074402,
     "end_time": "2021-08-17T09:04:31.513022",
     "exception": false,
     "start_time": "2021-08-17T09:04:31.438620",
     "status": "completed"
    },
    "tags": []
   },
   "outputs": [
    {
     "data": {
      "text/html": [
       "<div>\n",
       "<style scoped>\n",
       "    .dataframe tbody tr th:only-of-type {\n",
       "        vertical-align: middle;\n",
       "    }\n",
       "\n",
       "    .dataframe tbody tr th {\n",
       "        vertical-align: top;\n",
       "    }\n",
       "\n",
       "    .dataframe thead th {\n",
       "        text-align: right;\n",
       "    }\n",
       "</style>\n",
       "<table border=\"1\" class=\"dataframe\">\n",
       "  <thead>\n",
       "    <tr style=\"text-align: right;\">\n",
       "      <th></th>\n",
       "      <th>Review</th>\n",
       "      <th>Liked</th>\n",
       "      <th>polarity_score</th>\n",
       "    </tr>\n",
       "  </thead>\n",
       "  <tbody>\n",
       "    <tr>\n",
       "      <th>0</th>\n",
       "      <td>wow loved place</td>\n",
       "      <td>1</td>\n",
       "      <td>0.83</td>\n",
       "    </tr>\n",
       "    <tr>\n",
       "      <th>1</th>\n",
       "      <td>crust good</td>\n",
       "      <td>0</td>\n",
       "      <td>0.44</td>\n",
       "    </tr>\n",
       "    <tr>\n",
       "      <th>2</th>\n",
       "      <td>tasty texture nasty</td>\n",
       "      <td>0</td>\n",
       "      <td>-0.56</td>\n",
       "    </tr>\n",
       "    <tr>\n",
       "      <th>3</th>\n",
       "      <td>stopped late may bank holiday rick recommendat...</td>\n",
       "      <td>1</td>\n",
       "      <td>0.69</td>\n",
       "    </tr>\n",
       "    <tr>\n",
       "      <th>4</th>\n",
       "      <td>selection menu great price</td>\n",
       "      <td>1</td>\n",
       "      <td>0.62</td>\n",
       "    </tr>\n",
       "  </tbody>\n",
       "</table>\n",
       "</div>"
      ],
      "text/plain": [
       "                                              Review  Liked  polarity_score\n",
       "0                                    wow loved place      1            0.83\n",
       "1                                         crust good      0            0.44\n",
       "2                                tasty texture nasty      0           -0.56\n",
       "3  stopped late may bank holiday rick recommendat...      1            0.69\n",
       "4                         selection menu great price      1            0.62"
      ]
     },
     "execution_count": 29,
     "metadata": {},
     "output_type": "execute_result"
    }
   ],
   "source": [
    "df.head()"
   ]
  },
  {
   "cell_type": "markdown",
   "id": "6fb79425",
   "metadata": {
    "papermill": {
     "duration": 0.059726,
     "end_time": "2021-08-17T09:04:31.633196",
     "exception": false,
     "start_time": "2021-08-17T09:04:31.573470",
     "status": "completed"
    },
    "tags": []
   },
   "source": [
    "> **4. Sentiment Modeling**"
   ]
  },
  {
   "cell_type": "markdown",
   "id": "19a883e8",
   "metadata": {
    "papermill": {
     "duration": 0.059777,
     "end_time": "2021-08-17T09:04:31.752834",
     "exception": false,
     "start_time": "2021-08-17T09:04:31.693057",
     "status": "completed"
    },
    "tags": []
   },
   "source": [
    "Create the target"
   ]
  },
  {
   "cell_type": "code",
   "execution_count": 30,
   "id": "b1b1d529",
   "metadata": {
    "execution": {
     "iopub.execute_input": "2021-08-17T09:04:31.884284Z",
     "iopub.status.busy": "2021-08-17T09:04:31.883544Z",
     "iopub.status.idle": "2021-08-17T09:04:31.887609Z",
     "shell.execute_reply": "2021-08-17T09:04:31.886946Z",
     "shell.execute_reply.started": "2021-08-17T08:29:48.378412Z"
    },
    "papermill": {
     "duration": 0.073619,
     "end_time": "2021-08-17T09:04:31.887777",
     "exception": false,
     "start_time": "2021-08-17T09:04:31.814158",
     "status": "completed"
    },
    "tags": []
   },
   "outputs": [
    {
     "data": {
      "text/plain": [
       "0    pos\n",
       "1    pos\n",
       "2    neg\n",
       "3    pos\n",
       "4    pos\n",
       "5    neg\n",
       "6    neg\n",
       "7    pos\n",
       "8    pos\n",
       "9    pos\n",
       "Name: Review, dtype: object"
      ]
     },
     "execution_count": 30,
     "metadata": {},
     "output_type": "execute_result"
    }
   ],
   "source": [
    "df[\"Review\"][0:10].apply(lambda x: \"pos\" if sia.polarity_scores(x)[\"compound\"] > 0 else \"neg\")"
   ]
  },
  {
   "cell_type": "markdown",
   "id": "a8eaf1e7",
   "metadata": {
    "papermill": {
     "duration": 0.059006,
     "end_time": "2021-08-17T09:04:32.008017",
     "exception": false,
     "start_time": "2021-08-17T09:04:31.949011",
     "status": "completed"
    },
    "tags": []
   },
   "source": [
    "Apply for all data"
   ]
  },
  {
   "cell_type": "code",
   "execution_count": 31,
   "id": "1b543265",
   "metadata": {
    "execution": {
     "iopub.execute_input": "2021-08-17T09:04:32.143311Z",
     "iopub.status.busy": "2021-08-17T09:04:32.142576Z",
     "iopub.status.idle": "2021-08-17T09:04:32.257635Z",
     "shell.execute_reply": "2021-08-17T09:04:32.256917Z",
     "shell.execute_reply.started": "2021-08-17T08:30:16.275776Z"
    },
    "papermill": {
     "duration": 0.19111,
     "end_time": "2021-08-17T09:04:32.257797",
     "exception": false,
     "start_time": "2021-08-17T09:04:32.066687",
     "status": "completed"
    },
    "tags": []
   },
   "outputs": [
    {
     "data": {
      "text/html": [
       "<div>\n",
       "<style scoped>\n",
       "    .dataframe tbody tr th:only-of-type {\n",
       "        vertical-align: middle;\n",
       "    }\n",
       "\n",
       "    .dataframe tbody tr th {\n",
       "        vertical-align: top;\n",
       "    }\n",
       "\n",
       "    .dataframe thead th {\n",
       "        text-align: right;\n",
       "    }\n",
       "</style>\n",
       "<table border=\"1\" class=\"dataframe\">\n",
       "  <thead>\n",
       "    <tr style=\"text-align: right;\">\n",
       "      <th></th>\n",
       "      <th>Review</th>\n",
       "      <th>Liked</th>\n",
       "      <th>polarity_score</th>\n",
       "      <th>sentiment_label</th>\n",
       "    </tr>\n",
       "  </thead>\n",
       "  <tbody>\n",
       "    <tr>\n",
       "      <th>0</th>\n",
       "      <td>wow loved place</td>\n",
       "      <td>1</td>\n",
       "      <td>0.83</td>\n",
       "      <td>pos</td>\n",
       "    </tr>\n",
       "    <tr>\n",
       "      <th>1</th>\n",
       "      <td>crust good</td>\n",
       "      <td>0</td>\n",
       "      <td>0.44</td>\n",
       "      <td>pos</td>\n",
       "    </tr>\n",
       "    <tr>\n",
       "      <th>2</th>\n",
       "      <td>tasty texture nasty</td>\n",
       "      <td>0</td>\n",
       "      <td>-0.56</td>\n",
       "      <td>neg</td>\n",
       "    </tr>\n",
       "    <tr>\n",
       "      <th>3</th>\n",
       "      <td>stopped late may bank holiday rick recommendat...</td>\n",
       "      <td>1</td>\n",
       "      <td>0.69</td>\n",
       "      <td>pos</td>\n",
       "    </tr>\n",
       "    <tr>\n",
       "      <th>4</th>\n",
       "      <td>selection menu great price</td>\n",
       "      <td>1</td>\n",
       "      <td>0.62</td>\n",
       "      <td>pos</td>\n",
       "    </tr>\n",
       "    <tr>\n",
       "      <th>5</th>\n",
       "      <td>getting angry want damn pho</td>\n",
       "      <td>0</td>\n",
       "      <td>-0.69</td>\n",
       "      <td>neg</td>\n",
       "    </tr>\n",
       "    <tr>\n",
       "      <th>6</th>\n",
       "      <td>honeslty didnt taste fresh</td>\n",
       "      <td>0</td>\n",
       "      <td>-0.24</td>\n",
       "      <td>neg</td>\n",
       "    </tr>\n",
       "    <tr>\n",
       "      <th>7</th>\n",
       "      <td>potato like rubber could tell made time kept w...</td>\n",
       "      <td>0</td>\n",
       "      <td>0.57</td>\n",
       "      <td>pos</td>\n",
       "    </tr>\n",
       "    <tr>\n",
       "      <th>8</th>\n",
       "      <td>fry great</td>\n",
       "      <td>1</td>\n",
       "      <td>0.62</td>\n",
       "      <td>pos</td>\n",
       "    </tr>\n",
       "    <tr>\n",
       "      <th>9</th>\n",
       "      <td>great touch</td>\n",
       "      <td>1</td>\n",
       "      <td>0.62</td>\n",
       "      <td>pos</td>\n",
       "    </tr>\n",
       "    <tr>\n",
       "      <th>10</th>\n",
       "      <td>service prompt</td>\n",
       "      <td>1</td>\n",
       "      <td>0.00</td>\n",
       "      <td>neg</td>\n",
       "    </tr>\n",
       "    <tr>\n",
       "      <th>11</th>\n",
       "      <td>would go back</td>\n",
       "      <td>0</td>\n",
       "      <td>0.00</td>\n",
       "      <td>neg</td>\n",
       "    </tr>\n",
       "    <tr>\n",
       "      <th>12</th>\n",
       "      <td>cashier care ever say still ended wayyy overpr...</td>\n",
       "      <td>0</td>\n",
       "      <td>0.49</td>\n",
       "      <td>pos</td>\n",
       "    </tr>\n",
       "    <tr>\n",
       "      <th>13</th>\n",
       "      <td>tried cape cod ravoli chicken cranberrymmmm</td>\n",
       "      <td>1</td>\n",
       "      <td>0.00</td>\n",
       "      <td>neg</td>\n",
       "    </tr>\n",
       "    <tr>\n",
       "      <th>14</th>\n",
       "      <td>disgusted pretty sure human hair</td>\n",
       "      <td>0</td>\n",
       "      <td>0.27</td>\n",
       "      <td>pos</td>\n",
       "    </tr>\n",
       "    <tr>\n",
       "      <th>15</th>\n",
       "      <td>shocked indicate</td>\n",
       "      <td>0</td>\n",
       "      <td>-0.32</td>\n",
       "      <td>neg</td>\n",
       "    </tr>\n",
       "    <tr>\n",
       "      <th>16</th>\n",
       "      <td>highly recommended</td>\n",
       "      <td>1</td>\n",
       "      <td>0.27</td>\n",
       "      <td>pos</td>\n",
       "    </tr>\n",
       "    <tr>\n",
       "      <th>17</th>\n",
       "      <td>waitress little slow service</td>\n",
       "      <td>0</td>\n",
       "      <td>0.00</td>\n",
       "      <td>neg</td>\n",
       "    </tr>\n",
       "    <tr>\n",
       "      <th>18</th>\n",
       "      <td>place worth time let alone vega</td>\n",
       "      <td>0</td>\n",
       "      <td>-0.03</td>\n",
       "      <td>neg</td>\n",
       "    </tr>\n",
       "    <tr>\n",
       "      <th>19</th>\n",
       "      <td>like</td>\n",
       "      <td>0</td>\n",
       "      <td>0.36</td>\n",
       "      <td>pos</td>\n",
       "    </tr>\n",
       "  </tbody>\n",
       "</table>\n",
       "</div>"
      ],
      "text/plain": [
       "                                               Review  Liked  polarity_score sentiment_label\n",
       "0                                     wow loved place      1            0.83             pos\n",
       "1                                          crust good      0            0.44             pos\n",
       "2                                 tasty texture nasty      0           -0.56             neg\n",
       "3   stopped late may bank holiday rick recommendat...      1            0.69             pos\n",
       "4                          selection menu great price      1            0.62             pos\n",
       "5                         getting angry want damn pho      0           -0.69             neg\n",
       "6                          honeslty didnt taste fresh      0           -0.24             neg\n",
       "7   potato like rubber could tell made time kept w...      0            0.57             pos\n",
       "8                                           fry great      1            0.62             pos\n",
       "9                                         great touch      1            0.62             pos\n",
       "10                                     service prompt      1            0.00             neg\n",
       "11                                      would go back      0            0.00             neg\n",
       "12  cashier care ever say still ended wayyy overpr...      0            0.49             pos\n",
       "13        tried cape cod ravoli chicken cranberrymmmm      1            0.00             neg\n",
       "14                   disgusted pretty sure human hair      0            0.27             pos\n",
       "15                                   shocked indicate      0           -0.32             neg\n",
       "16                                 highly recommended      1            0.27             pos\n",
       "17                       waitress little slow service      0            0.00             neg\n",
       "18                    place worth time let alone vega      0           -0.03             neg\n",
       "19                                               like      0            0.36             pos"
      ]
     },
     "execution_count": 31,
     "metadata": {},
     "output_type": "execute_result"
    }
   ],
   "source": [
    "df[\"sentiment_label\"] = df[\"Review\"].apply(lambda x: \"pos\" if sia.polarity_scores(x)[\"compound\"] > 0 else \"neg\")\n",
    "df.head(20)"
   ]
  },
  {
   "cell_type": "code",
   "execution_count": 32,
   "id": "738fc06f",
   "metadata": {
    "execution": {
     "iopub.execute_input": "2021-08-17T09:04:32.389740Z",
     "iopub.status.busy": "2021-08-17T09:04:32.388726Z",
     "iopub.status.idle": "2021-08-17T09:04:32.394598Z",
     "shell.execute_reply": "2021-08-17T09:04:32.393907Z",
     "shell.execute_reply.started": "2021-08-17T08:32:10.290572Z"
    },
    "papermill": {
     "duration": 0.07501,
     "end_time": "2021-08-17T09:04:32.394771",
     "exception": false,
     "start_time": "2021-08-17T09:04:32.319761",
     "status": "completed"
    },
    "tags": []
   },
   "outputs": [
    {
     "data": {
      "text/plain": [
       "sentiment_label\n",
       "neg   0.22\n",
       "pos   0.75\n",
       "Name: Liked, dtype: float64"
      ]
     },
     "execution_count": 32,
     "metadata": {},
     "output_type": "execute_result"
    }
   ],
   "source": [
    "df.groupby(\"sentiment_label\")[\"Liked\"].mean()"
   ]
  },
  {
   "cell_type": "code",
   "execution_count": 33,
   "id": "3a4d0ff0",
   "metadata": {
    "execution": {
     "iopub.execute_input": "2021-08-17T09:04:32.523867Z",
     "iopub.status.busy": "2021-08-17T09:04:32.523164Z",
     "iopub.status.idle": "2021-08-17T09:04:32.526426Z",
     "shell.execute_reply": "2021-08-17T09:04:32.526885Z",
     "shell.execute_reply.started": "2021-08-17T08:32:44.108003Z"
    },
    "papermill": {
     "duration": 0.070506,
     "end_time": "2021-08-17T09:04:32.527062",
     "exception": false,
     "start_time": "2021-08-17T09:04:32.456556",
     "status": "completed"
    },
    "tags": []
   },
   "outputs": [],
   "source": [
    "df[\"sentiment_label\"] = LabelEncoder().fit_transform(df[\"sentiment_label\"])"
   ]
  },
  {
   "cell_type": "code",
   "execution_count": 34,
   "id": "8da4780c",
   "metadata": {
    "execution": {
     "iopub.execute_input": "2021-08-17T09:04:32.654446Z",
     "iopub.status.busy": "2021-08-17T09:04:32.653684Z",
     "iopub.status.idle": "2021-08-17T09:04:32.657819Z",
     "shell.execute_reply": "2021-08-17T09:04:32.657234Z",
     "shell.execute_reply.started": "2021-08-17T08:32:56.333156Z"
    },
    "papermill": {
     "duration": 0.07128,
     "end_time": "2021-08-17T09:04:32.657974",
     "exception": false,
     "start_time": "2021-08-17T09:04:32.586694",
     "status": "completed"
    },
    "tags": []
   },
   "outputs": [],
   "source": [
    "X = df[\"Review\"]\n",
    "y = df[\"sentiment_label\"]"
   ]
  },
  {
   "cell_type": "markdown",
   "id": "2f2807a8",
   "metadata": {
    "papermill": {
     "duration": 0.060823,
     "end_time": "2021-08-17T09:04:32.779396",
     "exception": false,
     "start_time": "2021-08-17T09:04:32.718573",
     "status": "completed"
    },
    "tags": []
   },
   "source": [
    "***Count Vectors***\n",
    "\n",
    "converts text to a term count vector."
   ]
  },
  {
   "cell_type": "code",
   "execution_count": 35,
   "id": "8257e99c",
   "metadata": {
    "execution": {
     "iopub.execute_input": "2021-08-17T09:04:32.918161Z",
     "iopub.status.busy": "2021-08-17T09:04:32.909358Z",
     "iopub.status.idle": "2021-08-17T09:04:32.932064Z",
     "shell.execute_reply": "2021-08-17T09:04:32.932615Z",
     "shell.execute_reply.started": "2021-08-17T08:33:36.650526Z"
    },
    "papermill": {
     "duration": 0.092859,
     "end_time": "2021-08-17T09:04:32.932801",
     "exception": false,
     "start_time": "2021-08-17T09:04:32.839942",
     "status": "completed"
    },
    "tags": []
   },
   "outputs": [
    {
     "data": {
      "text/plain": [
       "array([[0, 0, 0, ..., 0, 0, 0],\n",
       "       [0, 0, 0, ..., 0, 0, 0],\n",
       "       [0, 0, 0, ..., 0, 0, 0],\n",
       "       [0, 0, 0, ..., 0, 0, 0],\n",
       "       [0, 0, 0, ..., 0, 0, 0]])"
      ]
     },
     "execution_count": 35,
     "metadata": {},
     "output_type": "execute_result"
    }
   ],
   "source": [
    "from sklearn.feature_extraction.text import CountVectorizer\n",
    "vectorizer = CountVectorizer()\n",
    "X_count = vectorizer.fit_transform(X)\n",
    "\n",
    "vectorizer.get_feature_names()[10:15]\n",
    "X_count.toarray()[10:15]"
   ]
  },
  {
   "cell_type": "markdown",
   "id": "e0caa382",
   "metadata": {
    "papermill": {
     "duration": 0.060987,
     "end_time": "2021-08-17T09:04:33.057084",
     "exception": false,
     "start_time": "2021-08-17T09:04:32.996097",
     "status": "completed"
    },
    "tags": []
   },
   "source": [
    "***TF-IDF***\n",
    "\n",
    "It is the weight factor calculated with the statistical method that shows the importance of a term in the document."
   ]
  },
  {
   "cell_type": "code",
   "execution_count": 36,
   "id": "48a3a2a4",
   "metadata": {
    "execution": {
     "iopub.execute_input": "2021-08-17T09:04:33.181347Z",
     "iopub.status.busy": "2021-08-17T09:04:33.180370Z",
     "iopub.status.idle": "2021-08-17T09:04:33.206315Z",
     "shell.execute_reply": "2021-08-17T09:04:33.205764Z",
     "shell.execute_reply.started": "2021-08-17T08:34:40.491902Z"
    },
    "papermill": {
     "duration": 0.088578,
     "end_time": "2021-08-17T09:04:33.206468",
     "exception": false,
     "start_time": "2021-08-17T09:04:33.117890",
     "status": "completed"
    },
    "tags": []
   },
   "outputs": [],
   "source": [
    "from sklearn.feature_extraction.text import TfidfVectorizer\n",
    "tf_idf_word_vectorizer = TfidfVectorizer()\n",
    "X_tf_idf_word = tf_idf_word_vectorizer.fit_transform(X)"
   ]
  },
  {
   "cell_type": "code",
   "execution_count": 37,
   "id": "75fd1b8a",
   "metadata": {
    "execution": {
     "iopub.execute_input": "2021-08-17T09:04:33.345945Z",
     "iopub.status.busy": "2021-08-17T09:04:33.345228Z",
     "iopub.status.idle": "2021-08-17T09:04:33.354666Z",
     "shell.execute_reply": "2021-08-17T09:04:33.354062Z",
     "shell.execute_reply.started": "2021-08-17T08:34:48.033339Z"
    },
    "papermill": {
     "duration": 0.087201,
     "end_time": "2021-08-17T09:04:33.354811",
     "exception": false,
     "start_time": "2021-08-17T09:04:33.267610",
     "status": "completed"
    },
    "tags": []
   },
   "outputs": [],
   "source": [
    "tf_idf_ngram_vectorizer = TfidfVectorizer(ngram_range=(2, 3))\n",
    "X_tf_idf_ngram = tf_idf_word_vectorizer.fit_transform(X)"
   ]
  },
  {
   "cell_type": "markdown",
   "id": "893042df",
   "metadata": {
    "papermill": {
     "duration": 0.059204,
     "end_time": "2021-08-17T09:04:33.473718",
     "exception": false,
     "start_time": "2021-08-17T09:04:33.414514",
     "status": "completed"
    },
    "tags": []
   },
   "source": [
    "***Logistic Regression***"
   ]
  },
  {
   "cell_type": "code",
   "execution_count": 38,
   "id": "cb9f7611",
   "metadata": {
    "execution": {
     "iopub.execute_input": "2021-08-17T09:04:33.600793Z",
     "iopub.status.busy": "2021-08-17T09:04:33.600070Z",
     "iopub.status.idle": "2021-08-17T09:04:33.861180Z",
     "shell.execute_reply": "2021-08-17T09:04:33.861657Z",
     "shell.execute_reply.started": "2021-08-17T08:36:22.471096Z"
    },
    "papermill": {
     "duration": 0.328619,
     "end_time": "2021-08-17T09:04:33.861837",
     "exception": false,
     "start_time": "2021-08-17T09:04:33.533218",
     "status": "completed"
    },
    "tags": []
   },
   "outputs": [
    {
     "data": {
      "text/plain": [
       "0.813"
      ]
     },
     "execution_count": 38,
     "metadata": {},
     "output_type": "execute_result"
    }
   ],
   "source": [
    "log_model = LogisticRegression().fit(X_tf_idf_word, y)\n",
    "\n",
    "cross_val_score(log_model,\n",
    "                X_tf_idf_word,\n",
    "                y, scoring=\"accuracy\",\n",
    "                cv=5).mean()"
   ]
  },
  {
   "cell_type": "code",
   "execution_count": 39,
   "id": "cc6775f6",
   "metadata": {
    "execution": {
     "iopub.execute_input": "2021-08-17T09:04:33.993301Z",
     "iopub.status.busy": "2021-08-17T09:04:33.992363Z",
     "iopub.status.idle": "2021-08-17T09:04:33.996224Z",
     "shell.execute_reply": "2021-08-17T09:04:33.996674Z"
    },
    "papermill": {
     "duration": 0.073615,
     "end_time": "2021-08-17T09:04:33.996846",
     "exception": false,
     "start_time": "2021-08-17T09:04:33.923231",
     "status": "completed"
    },
    "tags": []
   },
   "outputs": [
    {
     "data": {
      "text/plain": [
       "0    great food price high quality house made\n",
       "dtype: object"
      ]
     },
     "execution_count": 39,
     "metadata": {},
     "output_type": "execute_result"
    }
   ],
   "source": [
    "random_review = pd.Series(df[\"Review\"].sample(1).values)\n",
    "random_review"
   ]
  },
  {
   "cell_type": "code",
   "execution_count": 40,
   "id": "937891d6",
   "metadata": {
    "execution": {
     "iopub.execute_input": "2021-08-17T09:04:34.152731Z",
     "iopub.status.busy": "2021-08-17T09:04:34.151661Z",
     "iopub.status.idle": "2021-08-17T09:04:34.161853Z",
     "shell.execute_reply": "2021-08-17T09:04:34.162866Z"
    },
    "papermill": {
     "duration": 0.100202,
     "end_time": "2021-08-17T09:04:34.163219",
     "exception": false,
     "start_time": "2021-08-17T09:04:34.063017",
     "status": "completed"
    },
    "tags": []
   },
   "outputs": [
    {
     "data": {
      "text/plain": [
       "array([1])"
      ]
     },
     "execution_count": 40,
     "metadata": {},
     "output_type": "execute_result"
    }
   ],
   "source": [
    "new_comment = CountVectorizer().fit(X).transform(random_review)\n",
    "log_model.predict(new_comment)"
   ]
  },
  {
   "cell_type": "markdown",
   "id": "294ae2bb",
   "metadata": {
    "papermill": {
     "duration": 0.063921,
     "end_time": "2021-08-17T09:04:34.299810",
     "exception": false,
     "start_time": "2021-08-17T09:04:34.235889",
     "status": "completed"
    },
    "tags": []
   },
   "source": [
    "***Random Forests***"
   ]
  },
  {
   "cell_type": "code",
   "execution_count": 41,
   "id": "1da7bbb6",
   "metadata": {
    "execution": {
     "iopub.execute_input": "2021-08-17T09:04:34.448992Z",
     "iopub.status.busy": "2021-08-17T09:04:34.448248Z",
     "iopub.status.idle": "2021-08-17T09:04:38.999627Z",
     "shell.execute_reply": "2021-08-17T09:04:38.998983Z",
     "shell.execute_reply.started": "2021-08-17T08:39:40.792477Z"
    },
    "papermill": {
     "duration": 4.626284,
     "end_time": "2021-08-17T09:04:38.999806",
     "exception": false,
     "start_time": "2021-08-17T09:04:34.373522",
     "status": "completed"
    },
    "tags": []
   },
   "outputs": [
    {
     "name": "stdout",
     "output_type": "stream",
     "text": [
      "0.8319999999999999\n"
     ]
    }
   ],
   "source": [
    "rf_model = RandomForestClassifier().fit(X_count, y)\n",
    "print(cross_val_score(rf_model, X_count, y, cv=5, n_jobs=-1).mean())"
   ]
  },
  {
   "cell_type": "markdown",
   "id": "55aa13a4",
   "metadata": {
    "papermill": {
     "duration": 0.063024,
     "end_time": "2021-08-17T09:04:39.127770",
     "exception": false,
     "start_time": "2021-08-17T09:04:39.064746",
     "status": "completed"
    },
    "tags": []
   },
   "source": [
    "*TF-IDF Word-Level*"
   ]
  },
  {
   "cell_type": "code",
   "execution_count": 42,
   "id": "328edbd0",
   "metadata": {
    "execution": {
     "iopub.execute_input": "2021-08-17T09:04:39.261740Z",
     "iopub.status.busy": "2021-08-17T09:04:39.261017Z",
     "iopub.status.idle": "2021-08-17T09:04:41.134070Z",
     "shell.execute_reply": "2021-08-17T09:04:41.135168Z",
     "shell.execute_reply.started": "2021-08-17T08:40:18.306055Z"
    },
    "papermill": {
     "duration": 1.945287,
     "end_time": "2021-08-17T09:04:41.135429",
     "exception": false,
     "start_time": "2021-08-17T09:04:39.190142",
     "status": "completed"
    },
    "tags": []
   },
   "outputs": [
    {
     "name": "stdout",
     "output_type": "stream",
     "text": [
      "0.8059999999999998\n"
     ]
    }
   ],
   "source": [
    "rf_model = RandomForestClassifier().fit(X_tf_idf_word, y)\n",
    "print(cross_val_score(rf_model, X_tf_idf_word, y, cv=5, n_jobs=-1).mean())"
   ]
  },
  {
   "cell_type": "code",
   "execution_count": 43,
   "id": "401b95e4",
   "metadata": {
    "execution": {
     "iopub.execute_input": "2021-08-17T09:04:41.280521Z",
     "iopub.status.busy": "2021-08-17T09:04:41.269059Z",
     "iopub.status.idle": "2021-08-17T09:04:43.187563Z",
     "shell.execute_reply": "2021-08-17T09:04:43.186433Z",
     "shell.execute_reply.started": "2021-08-17T08:40:27.672226Z"
    },
    "papermill": {
     "duration": 1.988126,
     "end_time": "2021-08-17T09:04:43.187841",
     "exception": false,
     "start_time": "2021-08-17T09:04:41.199715",
     "status": "completed"
    },
    "tags": []
   },
   "outputs": [
    {
     "name": "stdout",
     "output_type": "stream",
     "text": [
      "0.8089999999999999\n"
     ]
    }
   ],
   "source": [
    "rf_model = RandomForestClassifier().fit(X_tf_idf_ngram, y)\n",
    "print(cross_val_score(rf_model, X_tf_idf_ngram, y, cv=5, n_jobs=-1).mean())"
   ]
  },
  {
   "cell_type": "markdown",
   "id": "8e867352",
   "metadata": {
    "papermill": {
     "duration": 0.062412,
     "end_time": "2021-08-17T09:04:43.315179",
     "exception": false,
     "start_time": "2021-08-17T09:04:43.252767",
     "status": "completed"
    },
    "tags": []
   },
   "source": [
    "**Hyperparameter Optimization**"
   ]
  },
  {
   "cell_type": "code",
   "execution_count": 44,
   "id": "83d26280",
   "metadata": {
    "execution": {
     "iopub.execute_input": "2021-08-17T09:04:43.450031Z",
     "iopub.status.busy": "2021-08-17T09:04:43.449281Z",
     "iopub.status.idle": "2021-08-17T09:07:43.017808Z",
     "shell.execute_reply": "2021-08-17T09:07:43.017252Z",
     "shell.execute_reply.started": "2021-08-17T08:41:16.294039Z"
    },
    "papermill": {
     "duration": 179.640397,
     "end_time": "2021-08-17T09:07:43.017981",
     "exception": false,
     "start_time": "2021-08-17T09:04:43.377584",
     "status": "completed"
    },
    "tags": []
   },
   "outputs": [
    {
     "name": "stdout",
     "output_type": "stream",
     "text": [
      "Fitting 5 folds for each of 108 candidates, totalling 540 fits\n"
     ]
    },
    {
     "name": "stderr",
     "output_type": "stream",
     "text": [
      "[Parallel(n_jobs=-1)]: Using backend LokyBackend with 4 concurrent workers.\n",
      "[Parallel(n_jobs=-1)]: Done  42 tasks      | elapsed:    9.1s\n",
      "[Parallel(n_jobs=-1)]: Done 192 tasks      | elapsed:   43.3s\n",
      "[Parallel(n_jobs=-1)]: Done 442 tasks      | elapsed:  2.0min\n",
      "[Parallel(n_jobs=-1)]: Done 540 out of 540 | elapsed:  2.9min finished\n"
     ]
    },
    {
     "data": {
      "text/plain": [
       "0.9004796656164906"
      ]
     },
     "execution_count": 44,
     "metadata": {},
     "output_type": "execute_result"
    }
   ],
   "source": [
    "rf_model = RandomForestClassifier(random_state=17)\n",
    "\n",
    "rf_params = {\"max_depth\": [5, 8, None],\n",
    "             \"max_features\": [5, 7, \"auto\"],\n",
    "             \"min_samples_split\": [2, 5, 8, 20],\n",
    "             \"n_estimators\": [100, 200, 500]}\n",
    "\n",
    "rf_best_grid = GridSearchCV(rf_model,\n",
    "                            rf_params,\n",
    "                            cv=5,\n",
    "                            n_jobs=-1,\n",
    "                            verbose=True).fit(X_count, y)\n",
    "\n",
    "rf_best_grid.best_params_\n",
    "\n",
    "rf_final = rf_model.set_params(**rf_best_grid.best_params_, random_state=17).fit(X_count, y)\n",
    "\n",
    "cv_results = cross_validate(rf_final, X_count, y, cv=3, scoring=[\"accuracy\", \"f1\", \"roc_auc\"])\n",
    "\n",
    "cv_results['test_accuracy'].mean()\n",
    "cv_results['test_f1'].mean()\n",
    "cv_results['test_roc_auc'].mean()"
   ]
  }
 ],
 "metadata": {
  "kernelspec": {
   "display_name": "Python 3",
   "language": "python",
   "name": "python3"
  },
  "language_info": {
   "codemirror_mode": {
    "name": "ipython",
    "version": 3
   },
   "file_extension": ".py",
   "mimetype": "text/x-python",
   "name": "python",
   "nbconvert_exporter": "python",
   "pygments_lexer": "ipython3",
   "version": "3.7.10"
  },
  "papermill": {
   "default_parameters": {},
   "duration": 214.022604,
   "end_time": "2021-08-17T09:07:44.842562",
   "environment_variables": {},
   "exception": null,
   "input_path": "__notebook__.ipynb",
   "output_path": "__notebook__.ipynb",
   "parameters": {},
   "start_time": "2021-08-17T09:04:10.819958",
   "version": "2.3.3"
  }
 },
 "nbformat": 4,
 "nbformat_minor": 5
}
